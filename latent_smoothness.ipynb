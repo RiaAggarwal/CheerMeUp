{
 "cells": [
  {
   "cell_type": "code",
   "execution_count": 1,
   "metadata": {},
   "outputs": [],
   "source": [
    "import torch\n",
    "import nntools as nt\n",
    "from models import generator,discriminator\n",
    "import matplotlib.pyplot as plt\n",
    "import torchvision\n",
    "import imageio\n",
    "import numpy as np"
   ]
  },
  {
   "cell_type": "code",
   "execution_count": 2,
   "metadata": {},
   "outputs": [],
   "source": [
    "from train import *"
   ]
  },
  {
   "cell_type": "code",
   "execution_count": 3,
   "metadata": {},
   "outputs": [],
   "source": [
    "exp1.load()"
   ]
  },
  {
   "cell_type": "code",
   "execution_count": 4,
   "metadata": {},
   "outputs": [],
   "source": [
    "noise1 = torch.randn(8, args[\"nz\"], 1, 1, device=device)\n",
    "noise2 = torch.ones(8, args[\"nz\"], 1, 1, device=device)\n",
    "# delta = (noise2-noise1)/10\n"
   ]
  },
  {
   "cell_type": "code",
   "execution_count": 7,
   "metadata": {},
   "outputs": [],
   "source": [
    "filenames = []\n",
    "for i in range(10):\n",
    "    img_gen = generator_(noise1 + i*0.4*noise2)\n",
    "#     img_gen = generator_(noise1 + i*delta)\n",
    "    torchvision.utils.save_image(img_gen.detach(),f'./test{i}_del.png',normalize=True)\n",
    "    filenames.append(f'./test{i}_del.png')\n",
    "    \n",
    "images = []\n",
    "kargs = { 'duration': 1 }\n",
    "for filename in filenames:\n",
    "    images.append(imageio.imread(filename))\n",
    "imageio.mimsave('test.gif', images, 'GIF', **kargs)"
   ]
  },
  {
   "cell_type": "code",
   "execution_count": 6,
   "metadata": {},
   "outputs": [],
   "source": [
    "# coeff = np.load('./data/coefficients_tanh.npy')\n",
    "# feature_direction = coeff / np.linalg.norm(coeff, ord=2, axis=0, keepdims=True)\n",
    "# delta = torch.Tensor(feature_direction[:,3]).to(device)\n",
    "# delta = delta.unsqueeze(1).unsqueeze(1).unsqueeze(0).expand(8,100,1,1)\n",
    "# noise1 = torch.randn(8, args[\"nz\"], 1, 1, device=device)\n",
    "\n",
    "# filenames = []\n",
    "# for i in range(10):\n",
    "#     img_gen = generator_(noise1 + i*0.4*delta)\n",
    "#     torchvision.utils.save_image(img_gen.detach(),f'./test{i}_del.png',normalize=True)\n",
    "#     filenames.append(f'./test{i}_del.png')\n",
    "\n",
    "# images = []\n",
    "# kargs = { 'duration': 1 }\n",
    "# for filename in filenames:\n",
    "#     images.append(imageio.imread(filename))\n",
    "# imageio.mimsave('test.gif', images, 'GIF', **kargs)"
   ]
  },
  {
   "cell_type": "code",
   "execution_count": null,
   "metadata": {},
   "outputs": [],
   "source": []
  }
 ],
 "metadata": {
  "kernelspec": {
   "display_name": "Python 3",
   "language": "python",
   "name": "python3"
  },
  "language_info": {
   "codemirror_mode": {
    "name": "ipython",
    "version": 3
   },
   "file_extension": ".py",
   "mimetype": "text/x-python",
   "name": "python",
   "nbconvert_exporter": "python",
   "pygments_lexer": "ipython3",
   "version": "3.7.3"
  }
 },
 "nbformat": 4,
 "nbformat_minor": 2
}
